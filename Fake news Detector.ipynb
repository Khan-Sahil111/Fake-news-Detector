{
 "cells": [
  {
   "cell_type": "markdown",
   "id": "9eaa5a3b-d0da-4d7a-a66f-384b90891c2f",
   "metadata": {},
   "source": [
    "# Load Dataset:"
   ]
  },
  {
   "cell_type": "code",
   "execution_count": 1,
   "id": "7a09bdeb-6cae-46af-aa58-ba462dc6d36f",
   "metadata": {},
   "outputs": [],
   "source": [
    "import pandas as pd\n",
    "\n",
    "# Load fake and real news\n",
    "fake_df = pd.read_csv('Fake.csv')\n",
    "real_df = pd.read_csv('True.csv')\n",
    "\n",
    "# Label the data\n",
    "fake_df['label'] = 0\n",
    "real_df['label'] = 1\n",
    "\n",
    "# Combine datasets\n",
    "df = pd.concat([fake_df, real_df]).sample(frac=1).reset_index(drop=True)\n"
   ]
  },
  {
   "cell_type": "markdown",
   "id": "4a2c1973-e1e9-47a4-8f0f-1c359054e2b1",
   "metadata": {},
   "source": [
    "# Preprocess Text Data"
   ]
  },
  {
   "cell_type": "code",
   "execution_count": 2,
   "id": "6b1c294d-56bc-46a4-89f7-54c8d5eebe9f",
   "metadata": {},
   "outputs": [
    {
     "name": "stderr",
     "output_type": "stream",
     "text": [
      "[nltk_data] Downloading package stopwords to\n",
      "[nltk_data]     C:\\Users\\Raheel\\AppData\\Roaming\\nltk_data...\n",
      "[nltk_data]   Package stopwords is already up-to-date!\n",
      "[nltk_data] Downloading package wordnet to\n",
      "[nltk_data]     C:\\Users\\Raheel\\AppData\\Roaming\\nltk_data...\n",
      "[nltk_data]   Package wordnet is already up-to-date!\n"
     ]
    }
   ],
   "source": [
    "import re\n",
    "import nltk\n",
    "from nltk.corpus import stopwords\n",
    "from nltk.stem import WordNetLemmatizer\n",
    "\n",
    "nltk.download('stopwords')\n",
    "nltk.download('wordnet')\n",
    "\n",
    "stop_words = set(stopwords.words('english'))\n",
    "lemmatizer = WordNetLemmatizer()\n",
    "\n",
    "def clean_text(text):\n",
    "    text = re.sub(r'[^\\w\\s]', '', str(text).lower())\n",
    "    tokens = text.split()\n",
    "    tokens = [lemmatizer.lemmatize(word) for word in tokens if word not in stop_words]\n",
    "    return \" \".join(tokens)\n",
    "\n",
    "df['clean_text'] = df['text'].apply(clean_text)\n"
   ]
  },
  {
   "cell_type": "markdown",
   "id": "bdba0dd2-9aa1-4fde-8cf1-ec5e80c83321",
   "metadata": {},
   "source": [
    "# Feature Extraction (Vectorization)"
   ]
  },
  {
   "cell_type": "code",
   "execution_count": 3,
   "id": "01ce2e08-7ad8-4c75-8038-7eb5217fc552",
   "metadata": {},
   "outputs": [],
   "source": [
    "from sklearn.feature_extraction.text import TfidfVectorizer\n",
    "\n",
    "vectorizer = TfidfVectorizer(max_features=5000)\n",
    "X = vectorizer.fit_transform(df['clean_text'])\n",
    "y = df['label']\n"
   ]
  },
  {
   "cell_type": "markdown",
   "id": "f5833988-567d-46e5-8aa6-d1e43a40488f",
   "metadata": {},
   "source": [
    "# Train Classifier"
   ]
  },
  {
   "cell_type": "code",
   "execution_count": 4,
   "id": "24036e25-f861-4220-bb3f-a67d04a03764",
   "metadata": {},
   "outputs": [
    {
     "name": "stdout",
     "output_type": "stream",
     "text": [
      "              precision    recall  f1-score   support\n",
      "\n",
      "           0       0.99      0.98      0.99      4748\n",
      "           1       0.98      0.99      0.99      4232\n",
      "\n",
      "    accuracy                           0.99      8980\n",
      "   macro avg       0.99      0.99      0.99      8980\n",
      "weighted avg       0.99      0.99      0.99      8980\n",
      "\n"
     ]
    }
   ],
   "source": [
    "from sklearn.model_selection import train_test_split\n",
    "from sklearn.linear_model import LogisticRegression\n",
    "from sklearn.metrics import classification_report\n",
    "\n",
    "X_train, X_test, y_train, y_test = train_test_split(X, y, test_size=0.2, random_state=42)\n",
    "\n",
    "model = LogisticRegression()\n",
    "model.fit(X_train, y_train)\n",
    "\n",
    "y_pred = model.predict(X_test)\n",
    "print(classification_report(y_test, y_pred))\n"
   ]
  },
  {
   "cell_type": "markdown",
   "id": "35157e30-4d7a-44bb-8d5f-f51da7a3ab21",
   "metadata": {},
   "source": [
    "# Explainability with LIME"
   ]
  },
  {
   "cell_type": "code",
   "execution_count": 5,
   "id": "01e07f9f-05da-471e-8555-a3d75a74d89e",
   "metadata": {},
   "outputs": [],
   "source": [
    "from sklearn.pipeline import make_pipeline\n",
    "\n",
    "pipeline = make_pipeline(vectorizer, model)\n"
   ]
  },
  {
   "cell_type": "code",
   "execution_count": 7,
   "id": "5366bb99-0e95-49c9-9a81-3d0a4ad74e97",
   "metadata": {},
   "outputs": [
    {
     "data": {
      "text/plain": [
       "<lime.explanation.Explanation at 0x278834aa7b0>"
      ]
     },
     "execution_count": 7,
     "metadata": {},
     "output_type": "execute_result"
    }
   ],
   "source": [
    "import lime\n",
    "import lime.lime_text\n",
    "\n",
    "explainer = lime.lime_text.LimeTextExplainer(class_names=['Fake', 'Real'])\n",
    "\n",
    "# Make sure you're using the raw text (not preprocessed one)\n",
    "idx = 10\n",
    "text_instance = df['text'].iloc[idx]  # use original 'text' column, not 'clean_text'\n",
    "\n",
    "exp = explainer.explain_instance(text_instance, pipeline.predict_proba, num_features=10)\n",
    "exp\n"
   ]
  },
  {
   "cell_type": "code",
   "execution_count": 8,
   "id": "0a71c321-4caa-4eaa-bdde-c86287ab69a8",
   "metadata": {},
   "outputs": [],
   "source": [
    "exp.save_to_file('lime_explanation.html')\n"
   ]
  },
  {
   "cell_type": "code",
   "execution_count": 9,
   "id": "afc75112-3935-4962-87d2-0c3dadce9d46",
   "metadata": {},
   "outputs": [
    {
     "data": {
      "text/plain": [
       "['vectorizer.pkl']"
      ]
     },
     "execution_count": 9,
     "metadata": {},
     "output_type": "execute_result"
    }
   ],
   "source": [
    "import joblib\n",
    "joblib.dump(model, 'model.pkl')\n",
    "joblib.dump(vectorizer, 'vectorizer.pkl')\n"
   ]
  },
  {
   "cell_type": "code",
   "execution_count": null,
   "id": "e74d54bd-cb8b-4419-a140-ced5c4af4242",
   "metadata": {},
   "outputs": [],
   "source": []
  },
  {
   "cell_type": "code",
   "execution_count": null,
   "id": "07b9541b-bb43-487e-8cfc-9aa1ba19ba2a",
   "metadata": {},
   "outputs": [],
   "source": []
  }
 ],
 "metadata": {
  "kernelspec": {
   "display_name": "Python 3.13 (Ultralytics)",
   "language": "python",
   "name": "py313"
  },
  "language_info": {
   "codemirror_mode": {
    "name": "ipython",
    "version": 3
   },
   "file_extension": ".py",
   "mimetype": "text/x-python",
   "name": "python",
   "nbconvert_exporter": "python",
   "pygments_lexer": "ipython3",
   "version": "3.13.3"
  }
 },
 "nbformat": 4,
 "nbformat_minor": 5
}
